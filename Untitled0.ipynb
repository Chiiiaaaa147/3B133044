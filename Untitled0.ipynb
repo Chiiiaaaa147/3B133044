{
  "nbformat": 4,
  "nbformat_minor": 0,
  "metadata": {
    "colab": {
      "provenance": [],
      "authorship_tag": "ABX9TyNPUU8uAiVKVhQeobuJ8F9I",
      "include_colab_link": true
    },
    "kernelspec": {
      "name": "python3",
      "display_name": "Python 3"
    },
    "language_info": {
      "name": "python"
    }
  },
  "cells": [
    {
      "cell_type": "markdown",
      "metadata": {
        "id": "view-in-github",
        "colab_type": "text"
      },
      "source": [
        "<a href=\"https://colab.research.google.com/github/Chiiiaaaa147/3B133044/blob/main/Untitled0.ipynb\" target=\"_parent\"><img src=\"https://colab.research.google.com/assets/colab-badge.svg\" alt=\"Open In Colab\"/></a>"
      ]
    },
    {
      "cell_type": "code",
      "source": [
        "import itertools\n",
        "\n",
        "class City:\n",
        "    def __init__(self, name, coordinate, accommodation_cost, discount_from):\n",
        "        self.name = name\n",
        "        self.coordinate = coordinate\n",
        "        self.accommodation_cost = accommodation_cost\n",
        "        self.discount_from = discount_from\n",
        "\n",
        "    def calculate_discounted_cost(self, prev_city):\n",
        "        if prev_city.name in self.discount_from:\n",
        "            return self.accommodation_cost * 0.2  # 80% discount\n",
        "        else:\n",
        "            return self.accommodation_cost\n",
        "\n",
        "# Define city information\n",
        "cities = {\n",
        "    'A': {'coordinates': (0, 0), 'accommodation_cost': 2000, 'discount_previous_stay': ['C', 'G']},\n",
        "    'B': {'coordinates': (0, 120), 'accommodation_cost': 2400, 'discount_previous_stay': ['D', 'E']},\n",
        "    'C': {'coordinates': (30, 100), 'accommodation_cost': 2400, 'discount_previous_stay': ['G', 'A']},\n",
        "    'D': {'coordinates': (80, 0), 'accommodation_cost': 1600, 'discount_previous_stay': ['A', 'B']},\n",
        "    'E': {'coordinates': (45, 10), 'accommodation_cost': 1500, 'discount_previous_stay': ['B', 'F']},\n",
        "    'F': {'coordinates': (90, 160), 'accommodation_cost': 2200, 'discount_previous_stay': ['A', 'C']},\n",
        "    'G': {'coordinates': (120, 200), 'accommodation_cost': 1200, 'discount_previous_stay': ['E', 'F']}\n",
        "}\n",
        "\n",
        "# Define distance function between two cities\n",
        "def distance(city1, city2):\n",
        "    x1, y1 = cities[city1]['coordinates']\n",
        "    x2, y2 = cities[city2]['coordinates']\n",
        "    return ((x2 - x1)**2 + (y2 - y1)**2) ** 0.5\n",
        "\n",
        "# Use an approximation algorithm to find the cheapest travel route\n",
        "def find_cheapest_route():\n",
        "    min_cost = float('inf')\n",
        "    best_route = []\n",
        "\n",
        "    # Iterate through all permutations of cities\n",
        "    for perm in itertools.permutations(cities.keys()):\n",
        "        # Make sure the starting city and ending city are the same\n",
        "        perm = list(perm) + [perm[0]]\n",
        "\n",
        "        # Calculate the total cost\n",
        "        cost = 0\n",
        "        for i in range(len(perm) - 1):\n",
        "            current_city = perm[i]\n",
        "            next_city = perm[i + 1]\n",
        "\n",
        "            # Consider the accommodation cost discount from the previous stay\n",
        "            if next_city in cities[current_city]['discount_previous_stay']:\n",
        "                cost += distance(current_city, next_city) + cities[next_city]['accommodation_cost'] * 0.8\n",
        "            else:\n",
        "                cost += distance(current_city, next_city) + cities[next_city]['accommodation_cost']\n",
        "\n",
        "        # Update the best travel route with the lowest cost\n",
        "        if cost < min_cost:\n",
        "            min_cost = cost\n",
        "            best_route = perm\n",
        "\n",
        "    return min_cost, best_route\n",
        "\n",
        "# Execute the approximation algorithm to find the cheapest travel route\n",
        "min_cost, best_route = find_cheapest_route()\n",
        "\n",
        "# Output the results\n",
        "print(\"Minimum cost: \", min_cost)\n",
        "print(\"Travel route: \", \"->\".join(best_route))\n"
      ],
      "metadata": {
        "colab": {
          "base_uri": "https://localhost:8080/"
        },
        "id": "15QYg6izwRI4",
        "outputId": "9dc6e667-3e2b-467b-a2a8-c0322e857b06"
      },
      "execution_count": 1,
      "outputs": [
        {
          "output_type": "stream",
          "name": "stdout",
          "text": [
            "Minimum cost:  11728.614597452106\n",
            "Travel route:  E->B->D->A->C->G->F->E\n"
          ]
        }
      ]
    }
  ]
}