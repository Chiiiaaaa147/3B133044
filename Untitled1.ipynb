{
  "nbformat": 4,
  "nbformat_minor": 0,
  "metadata": {
    "colab": {
      "provenance": [],
      "authorship_tag": "ABX9TyPsA6g6fNFv+elbhK1TptVF",
      "include_colab_link": true
    },
    "kernelspec": {
      "name": "python3",
      "display_name": "Python 3"
    },
    "language_info": {
      "name": "python"
    }
  },
  "cells": [
    {
      "cell_type": "markdown",
      "metadata": {
        "id": "view-in-github",
        "colab_type": "text"
      },
      "source": [
        "<a href=\"https://colab.research.google.com/github/Chiiiaaaa147/3B133044/blob/main/Untitled1.ipynb\" target=\"_parent\"><img src=\"https://colab.research.google.com/assets/colab-badge.svg\" alt=\"Open In Colab\"/></a>"
      ]
    },
    {
      "cell_type": "code",
      "execution_count": 2,
      "metadata": {
        "colab": {
          "base_uri": "https://localhost:8080/"
        },
        "id": "XhLn20AcsPer",
        "outputId": "b700aaec-3345-4548-e3d1-4e62424bb2bb"
      },
      "outputs": [
        {
          "output_type": "stream",
          "name": "stdout",
          "text": [
            "The cheapest travel itinerary is: A -> C -> G\n",
            "The total travel cost is: $252500\n"
          ]
        }
      ],
      "source": [
        "import sys\n",
        "\n",
        "# Calculate the Euclidean distance between two cities\n",
        "def calculate_distance(city1, city2):\n",
        "    x1, y1 = city1[0], city1[1]\n",
        "    x2, y2 = city2[0], city2[1]\n",
        "    return ((x2 - x1) ** 2 + (y2 - y1) ** 2) ** 0.5\n",
        "\n",
        "# Dijkstra's algorithm for finding the cheapest path\n",
        "def find_cheapest_path(graph, start):\n",
        "    num_cities = len(graph)\n",
        "    distances = [sys.maxsize] * num_cities\n",
        "    visited = [False] * num_cities\n",
        "    path = [None] * num_cities\n",
        "\n",
        "    distances[start] = 0\n",
        "\n",
        "    for _ in range(num_cities):\n",
        "        min_distance = sys.maxsize\n",
        "        min_index = -1\n",
        "\n",
        "        for i in range(num_cities):\n",
        "            if not visited[i] and distances[i] < min_distance:\n",
        "                min_distance = distances[i]\n",
        "                min_index = i\n",
        "\n",
        "        visited[min_index] = True\n",
        "\n",
        "        for j in range(num_cities):\n",
        "            if (\n",
        "                not visited[j]\n",
        "                and graph[min_index][j] != sys.maxsize\n",
        "                and distances[min_index] + graph[min_index][j] < distances[j]\n",
        "            ):\n",
        "                distances[j] = distances[min_index] + graph[min_index][j]\n",
        "                path[j] = min_index\n",
        "\n",
        "    return distances, path\n",
        "\n",
        "# City information\n",
        "cities = {\n",
        "    \"A\": [(0, 0), 2000],\n",
        "    \"B\": [(0, 120), 2400],\n",
        "    \"C\": [(30, 100), 2400],\n",
        "    \"D\": [(80, 0), 1600],\n",
        "    \"E\": [(45, 10), 1500],\n",
        "    \"F\": [(90, 160), 2200],\n",
        "    \"G\": [(120, 200), 1200],\n",
        "}\n",
        "\n",
        "# Create the distance matrix between cities\n",
        "distances = [\n",
        "    [0, 1200, 1175, 1200, 1200, 2230, 2580],\n",
        "    [1200, 0, 930, 970, 1200, 2470, 2880],\n",
        "    [1175, 930, 0, 1225, 1280, 1880, 1350],\n",
        "    [1200, 970, 1225, 0, 1330, 1830, 2880],\n",
        "    [1200, 1200, 1280, 1330, 0, 1930, 1810],\n",
        "    [2230, 2470, 1880, 1830, 1930, 0, 850],\n",
        "    [2580, 2880, 1350, 2880, 1810, 850, 0],\n",
        "]\n",
        "\n",
        "# Calculate the cheapest travel itinerary\n",
        "distances, path = find_cheapest_path(distances, 0)\n",
        "\n",
        "# Print the cheapest travel itinerary\n",
        "path_cities = [\"A\", \"B\", \"C\", \"D\", \"E\", \"F\", \"G\"]\n",
        "current_city = 6\n",
        "cheapest_path = [path_cities[current_city]]\n",
        "\n",
        "while current_city != 0:\n",
        "    current_city = path[current_city]\n",
        "    cheapest_path.insert(0, path_cities[current_city])\n",
        "\n",
        "# Print the results\n",
        "print(\"The cheapest travel itinerary is: \" + \" -> \".join(cheapest_path))\n",
        "print(\"The total travel cost is: $\" + str(distances[6] * 100))  # Assume fuel cost is $100 per kilometer\n"
      ]
    }
  ]
}