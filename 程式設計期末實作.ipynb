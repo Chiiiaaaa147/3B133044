import sys

# Calculate the Euclidean distance between two cities
def calculate_distance(city1, city2):
    x1, y1 = city1[0], city1[1]
    x2, y2 = city2[0], city2[1]
    return ((x2 - x1) ** 2 + (y2 - y1) ** 2) ** 0.5

# Dijkstra's algorithm for finding the cheapest path
def find_cheapest_path(graph, start):
    num_cities = len(graph)
    distances = [sys.maxsize] * num_cities
    visited = [False] * num_cities
    path = [None] * num_cities

    distances[start] = 0

    for _ in range(num_cities):
        min_distance = sys.maxsize
        min_index = -1

        for i in range(num_cities):
            if not visited[i] and distances[i] < min_distance:
                min_distance = distances[i]
                min_index = i

        visited[min_index] = True

        for j in range(num_cities):
            if (
                not visited[j]
                and graph[min_index][j] != sys.maxsize
                and distances[min_index] + graph[min_index][j] < distances[j]
            ):
                distances[j] = distances[min_index] + graph[min_index][j]
                path[j] = min_index

    return distances, path

# City information
cities = {
    "A": [(0, 0), 2000],
    "B": [(0, 120), 2400],
    "C": [(30, 100), 2400],
    "D": [(80, 0), 1600],
    "E": [(45, 10), 1500],
    "F": [(90, 160), 2200],
    "G": [(120, 200), 1200],
}

# Create the distance matrix between cities
distances = [
    [0, 1200, 1175, 1200, 1200, 2230, 2580],
    [1200, 0, 930, 970, 1200, 2470, 2880],
    [1175, 930, 0, 1225, 1280, 1880, 1350],
    [1200, 970, 1225, 0, 1330, 1830, 2880],
    [1200, 1200, 1280, 1330, 0, 1930, 1810],
    [2230, 2470, 1880, 1830, 1930, 0, 850],
    [2580, 2880, 1350, 2880, 1810, 850, 0],
]

# Calculate the cheapest travel itinerary
distances, path = find_cheapest_path(distances, 0)

# Print the cheapest travel itinerary
path_cities = ["A", "B", "C", "D", "E", "F", "G"]
current_city = 6
cheapest_path = [path_cities[current_city]]

while current_city != 0:
    current_city = path[current_city]
    cheapest_path.insert(0, path_cities[current_city])

# Print the results
print("The cheapest travel itinerary is: " + " -> ".join(cheapest_path))
print("The total travel cost is: $" + str(distances[6] * 100))  # Assume fuel cost is $100 per kilometer
