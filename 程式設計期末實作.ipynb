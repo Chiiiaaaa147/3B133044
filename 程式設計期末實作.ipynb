import itertools

# 定義城市資訊
cities = {
    'A': {'coordinates': (0, 0), 'accommodation_cost': 2000, 'discount_previous_stay': ['C', 'G']},
    'B': {'coordinates': (0, 120), 'accommodation_cost': 2400, 'discount_previous_stay': ['D', 'E']},
    'C': {'coordinates': (30, 100), 'accommodation_cost': 2400, 'discount_previous_stay': ['G', 'A']},
    'D': {'coordinates': (80, 0), 'accommodation_cost': 1600, 'discount_previous_stay': ['A', 'B']},
    'E': {'coordinates': (45, 10), 'accommodation_cost': 1500, 'discount_previous_stay': ['B', 'F']},
    'F': {'coordinates': (90, 160), 'accommodation_cost': 2200, 'discount_previous_stay': ['A', 'C']},
    'G': {'coordinates': (120, 200), 'accommodation_cost': 1200, 'discount_previous_stay': ['E', 'F']}
}

# 定義兩城市之間的距離函數
def distance(city1, city2):
    x1, y1 = cities[city1]['coordinates']
    x2, y2 = cities[city2]['coordinates']
    return ((x2 - x1)**2 + (y2 - y1)**2) ** 0.5

# 使用近似算法找出最便宜的旅遊方案
def find_cheapest_route():
    min_cost = float('inf')
    best_route = []

    # 遍歷所有城市的排列組合
    for perm in itertools.permutations(cities.keys()):
        # 確保起點和終點是同一個城市
        perm = list(perm) + [perm[0]]

        # 計算總花費
        cost = 0
        for i in range(len(perm) - 1):
            current_city = perm[i]
            next_city = perm[i + 1]

            # 考慮上一站的住宿費用折扣
            if next_city in cities[current_city]['discount_previous_stay']:
                cost += distance(current_city, next_city) + cities[next_city]['accommodation_cost'] * 0.8
            else:
                cost += distance(current_city, next_city) + cities[next_city]['accommodation_cost']

        # 更新最低花費的旅遊方案
        if cost < min_cost:
            min_cost = cost
            best_route = perm

    return min_cost, best_route

# 執行近似算法找出最便宜的旅遊方案
min_cost, best_route = find_cheapest_route()

# 輸出結果
print("最低花費: ", min_cost)
print("旅遊路線: ", "->".join(best_route))
