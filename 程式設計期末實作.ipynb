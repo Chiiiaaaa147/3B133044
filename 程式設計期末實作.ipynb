import itertools

# 城市資訊
cities = {
    'A': {'coordinates': (0, 0), 'accommodation_cost': 2000, 'discounted_from': ['C', 'G']},
    'B': {'coordinates': (0, 120), 'accommodation_cost': 2400, 'discounted_from': ['D', 'E']},
    'C': {'coordinates': (30, 100), 'accommodation_cost': 2400, 'discounted_from': ['G', 'A']},
    'D': {'coordinates': (80, 0), 'accommodation_cost': 1600, 'discounted_from': ['A', 'B']},
    'E': {'coordinates': (45, 10), 'accommodation_cost': 1500, 'discounted_from': ['B', 'F']},
    'F': {'coordinates': (90, 160), 'accommodation_cost': 2200, 'discounted_from': ['A', 'C']},
    'G': {'coordinates': (120, 200), 'accommodation_cost': 1200, 'discounted_from': ['E', 'F']}
}

# 計算兩城市之間的距離
def calculate_distance(city1, city2):
    x1, y1 = cities[city1]['coordinates']
    x2, y2 = cities[city2]['coordinates']
    return math.sqrt((x2 - x1) ** 2 + (y2 - y1) ** 2)

# 計算行程的花費
def calculate_cost(itinerary):
    total_cost = 0
    previous_city = None
    for city in itinerary:
        if previous_city is not None:
            distance = calculate_distance(previous_city, city)
            total_cost += distance * 100  # 油錢
            if city in cities[previous_city]['discounted_from']:
                total_cost += cities[city]['accommodation_cost'] * 0.8  # 折扣食宿費用
            else:
                total_cost += cities[city]['accommodation_cost']
        previous_city = city
    return total_cost

# 列舉所有可能的行程組合
all_itineraries = list(itertools.permutations(cities.keys()))

# 找出最便宜的行程
cheapest_cost = float('inf')
cheapest_itinerary = None
for itinerary in all_itineraries:
    cost = calculate_cost(itinerary)
    if cost < cheapest_cost:
        cheapest_cost = cost
        cheapest_itinerary = itinerary

# 輸出結果
print(f'最便宜的行程花費：{cheapest_cost}元')
print(f'行程順序：{cheapest_itinerary}')

